{
 "cells": [
  {
   "cell_type": "code",
   "execution_count": 1,
   "metadata": {},
   "outputs": [
    {
     "name": "stdout",
     "output_type": "stream",
     "text": [
      "Data from 'home_value.csv' inserted into MongoDB collection 'home_value'\n",
      "Data from 'market_length&price_drop.csv' inserted into MongoDB collection 'market_length&price_drop'\n",
      "Data from 'selling_price.csv' inserted into MongoDB collection 'selling_price'\n",
      "Data insertion completed successfully.\n"
     ]
    }
   ],
   "source": [
    "import os\n",
    "import pandas as pd\n",
    "from pymongo import MongoClient\n",
    "\n",
    "# Connect to MongoDB\n",
    "client = MongoClient('mongodb://localhost:27017/')\n",
    "db = client['housingDB']  \n",
    "\n",
    "# Path to the \"Data\" folder\n",
    "data_folder = 'Data/'\n",
    "\n",
    "# List all CSV files in the \"Data\" folder\n",
    "csv_files = [file for file in os.listdir(data_folder) if file.endswith('.csv')]\n",
    "\n",
    "# Iterate over CSV files\n",
    "for csv_file in csv_files:\n",
    "    # Construct the full path to the CSV file\n",
    "    csv_path = os.path.join(data_folder, csv_file)\n",
    "\n",
    "    # Load CSV data into a Pandas DataFrame\n",
    "    df = pd.read_csv(csv_path)\n",
    "\n",
    "    # Convert DataFrame to dictionary for insertion\n",
    "    data_dict = df.to_dict(orient='records')\n",
    "\n",
    "    # Create a collection (table) in the MongoDB database\n",
    "    collection_name = os.path.splitext(csv_file)[0]  # Use the CSV file name as the collection name\n",
    "    collection = db[collection_name]\n",
    "\n",
    "    # Insert data into the collection\n",
    "    collection.insert_many(data_dict)\n",
    "\n",
    "    print(f\"Data from '{csv_file}' inserted into MongoDB collection '{collection_name}'\")\n",
    "\n",
    "# Confirm successful insertion\n",
    "print(\"Data insertion completed successfully.\")\n"
   ]
  }
 ],
 "metadata": {
  "kernelspec": {
   "display_name": "base",
   "language": "python",
   "name": "python3"
  },
  "language_info": {
   "codemirror_mode": {
    "name": "ipython",
    "version": 3
   },
   "file_extension": ".py",
   "mimetype": "text/x-python",
   "name": "python",
   "nbconvert_exporter": "python",
   "pygments_lexer": "ipython3",
   "version": "3.11.5"
  }
 },
 "nbformat": 4,
 "nbformat_minor": 2
}
